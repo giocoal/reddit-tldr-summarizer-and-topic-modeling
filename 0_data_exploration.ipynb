{
 "cells": [
  {
   "cell_type": "markdown",
   "id": "f0eebaa3",
   "metadata": {},
   "source": [
    "# TLDR text summarization"
   ]
  },
  {
   "cell_type": "markdown",
   "id": "7488cf63",
   "metadata": {},
   "source": [
    "GitHub repo: https://github.com/sajastu/reddit_collector\n",
    "\n",
    "Paper PDF: https://aclanthology.org/2021.newsum-1.15.pdf\n",
    "\n",
    "IR Lab: https://ir.cs.georgetown.edu/"
   ]
  },
  {
   "cell_type": "code",
   "execution_count": null,
   "id": "54ac7742",
   "metadata": {
    "ExecuteTime": {
     "end_time": "2022-12-26T21:04:41.194492Z",
     "start_time": "2022-12-26T21:04:40.785144Z"
    }
   },
   "outputs": [],
   "source": [
    "import os\n",
    "import json\n",
    "import pandas as pd\n",
    "import pprint"
   ]
  },
  {
   "cell_type": "markdown",
   "id": "a31cbb22",
   "metadata": {},
   "source": [
    "## Data Loading\n",
    "\n",
    "The following code loads the entire dataset in memory creating 3 dataframes (train, validation, test)"
   ]
  },
  {
   "cell_type": "code",
   "execution_count": null,
   "id": "1f8ab77f",
   "metadata": {
    "ExecuteTime": {
     "end_time": "2022-12-26T21:05:23.876071Z",
     "start_time": "2022-12-26T21:04:41.194492Z"
    },
    "scrolled": false
   },
   "outputs": [
    {
     "ename": "",
     "evalue": "",
     "output_type": "error",
     "traceback": [
      "\u001b[1;31mFailed to start the Kernel. \n",
      "\u001b[1;31mView Jupyter <a href='command:jupyter.viewOutput'>log</a> for further details."
     ]
    }
   ],
   "source": [
    "files = [os.path.join(dirpath,f) for (dirpath, dirnames, filenames) in os.walk(\"Dataset_TLDRHQ/\") for f in filenames]\n",
    "#files = files[0:14] # subset composed of train, val, test\n",
    "\n",
    "test = pd.DataFrame()\n",
    "train = pd.DataFrame()\n",
    "val = pd.DataFrame()\n",
    "\n",
    "for file in files:\n",
    "    temp = pd.read_json(file, lines=True)\n",
    "    temp.set_index(\"id\", inplace=True)\n",
    "        \n",
    "    if \"test\" in file:\n",
    "        test = pd.concat([test, temp])\n",
    "    if \"train\" in file:\n",
    "        train = pd.concat([train, temp])\n",
    "    else:\n",
    "        val = pd.concat([val, temp])"
   ]
  },
  {
   "cell_type": "markdown",
   "id": "e64ff5cc",
   "metadata": {},
   "source": [
    "Sizes of the dataframes"
   ]
  },
  {
   "cell_type": "code",
   "execution_count": 3,
   "id": "4724106d",
   "metadata": {
    "ExecuteTime": {
     "end_time": "2022-12-26T21:05:23.884762Z",
     "start_time": "2022-12-26T21:05:23.876071Z"
    },
    "scrolled": true
   },
   "outputs": [
    {
     "name": "stdout",
     "output_type": "stream",
     "text": [
      "train elements \t 1590132\n",
      "val elements \t 80967\n",
      "test elements \t 40486\n",
      "tot elements \t 1711585\n"
     ]
    }
   ],
   "source": [
    "print(\"train elements \\t\", len(train))\n",
    "print(\"val elements \\t\", len(val))\n",
    "print(\"test elements \\t\", len(test))\n",
    "print(\"tot elements \\t\", len(train)+len(val)+len(test))"
   ]
  },
  {
   "cell_type": "code",
   "execution_count": 4,
   "id": "a5302d7f",
   "metadata": {
    "ExecuteTime": {
     "end_time": "2022-12-26T21:05:23.985827Z",
     "start_time": "2022-12-26T21:05:23.884762Z"
    },
    "scrolled": false
   },
   "outputs": [
    {
     "data": {
      "text/html": [
       "<div>\n",
       "<style scoped>\n",
       "    .dataframe tbody tr th:only-of-type {\n",
       "        vertical-align: middle;\n",
       "    }\n",
       "\n",
       "    .dataframe tbody tr th {\n",
       "        vertical-align: top;\n",
       "    }\n",
       "\n",
       "    .dataframe thead th {\n",
       "        text-align: right;\n",
       "    }\n",
       "</style>\n",
       "<table border=\"1\" class=\"dataframe\">\n",
       "  <thead>\n",
       "    <tr style=\"text-align: right;\">\n",
       "      <th></th>\n",
       "      <th>document</th>\n",
       "      <th>summary</th>\n",
       "      <th>ext_labels</th>\n",
       "      <th>rg_labels</th>\n",
       "    </tr>\n",
       "    <tr>\n",
       "      <th>id</th>\n",
       "      <th></th>\n",
       "      <th></th>\n",
       "      <th></th>\n",
       "      <th></th>\n",
       "    </tr>\n",
       "  </thead>\n",
       "  <tbody>\n",
       "    <tr>\n",
       "      <th>train-TLDR_RS_2019-07-25907.json</th>\n",
       "      <td>hey y' all , i 've been a lurker in this commu...</td>\n",
       "      <td>i 'm publishing betas of some stuff i 've been...</td>\n",
       "      <td>[0, 0, 0, 1, 0, 0, 0, 0, 0, 0, 0, 0, 0, 0, 0, ...</td>\n",
       "      <td>[0.040456223279431006, 0.022386650144119002, 0...</td>\n",
       "    </tr>\n",
       "    <tr>\n",
       "      <th>train-TLDR_RS_2011-07-7721.json</th>\n",
       "      <td>as the title says , dreams that really scared ...</td>\n",
       "      <td>dreamed i was a cop that got shot in the face ...</td>\n",
       "      <td>[1, 1, 0, 0, 1]</td>\n",
       "      <td>[0.17657869627445003, 0.382656749215711, 0.157...</td>\n",
       "    </tr>\n",
       "    <tr>\n",
       "      <th>train-TLDR_RC_2019-08-cm-9972.json</th>\n",
       "      <td>from u / orangejews4u here 's my \" must read \"...</td>\n",
       "      <td>not worth ) ] ( https://www.reddit.com/r/howto...</td>\n",
       "      <td>[0, 1, 0, 1]</td>\n",
       "      <td>[0.23651113155692202, 0.336435558104879, 0.165...</td>\n",
       "    </tr>\n",
       "    <tr>\n",
       "      <th>train-TLDR_RS_2015-04-39164.json</th>\n",
       "      <td>hello / r / relationships , i did n't really k...</td>\n",
       "      <td>wife wants a break , has started going out par...</td>\n",
       "      <td>[0, 0, 0, 0, 0, 0, 0, 0, 0, 0, 0, 0, 0, 0, 0, ...</td>\n",
       "      <td>[0.044352260202115, 0.016666897769790003, 0.02...</td>\n",
       "    </tr>\n",
       "    <tr>\n",
       "      <th>train-TLDR_RC_2016-05-cm-45089.json</th>\n",
       "      <td>i agree with you to be honest .&lt;/s&gt;&lt;s&gt; my dad ...</td>\n",
       "      <td>i agree with you . regular dad things . some s...</td>\n",
       "      <td>[1, 0, 0, 0, 0, 0, 1, 0, 0, 0, 0, 0]</td>\n",
       "      <td>[0.43353065193323603, 0.054993317369966, 0.047...</td>\n",
       "    </tr>\n",
       "    <tr>\n",
       "      <th>...</th>\n",
       "      <td>...</td>\n",
       "      <td>...</td>\n",
       "      <td>...</td>\n",
       "      <td>...</td>\n",
       "    </tr>\n",
       "    <tr>\n",
       "      <th>TLDR_RS_2021-02-cm-5342.json</th>\n",
       "      <td>basically last year before corona and everythi...</td>\n",
       "      <td>fck web dev , i 'm off to learn how to make an...</td>\n",
       "      <td>[0, 1, 0, 0, 0, 0, 0, 0]</td>\n",
       "      <td>[0.11267163735327002, 0.31056765001268505, 0.1...</td>\n",
       "    </tr>\n",
       "    <tr>\n",
       "      <th>TLDR_RS_2021-02-cm-11094.json</th>\n",
       "      <td>i really like idea of homebrew spells but this...</td>\n",
       "      <td>i do n't find such op spells fun and fair .</td>\n",
       "      <td>[1, 0, 0, 0]</td>\n",
       "      <td>[0.49651190762569103, 0.26557613663699703, 0.0...</td>\n",
       "    </tr>\n",
       "    <tr>\n",
       "      <th>TLDR_RS_2021-03-cm-31347.json</th>\n",
       "      <td>when i ( 21f ) first met my boyfriend , he was...</td>\n",
       "      <td>my boyfriend is getting too sensitive and clin...</td>\n",
       "      <td>[0, 0, 0, 0, 0, 0, 0, 0, 0, 0, 0, 0, 0, 1]</td>\n",
       "      <td>[0.098505453044571, 0.053650019684145005, 0.07...</td>\n",
       "    </tr>\n",
       "    <tr>\n",
       "      <th>TLDR_RS_2021-03-cm-33971.json</th>\n",
       "      <td>for those wondering i 'm in the 9th grade and ...</td>\n",
       "      <td>i insulted my teacher in an online class . the...</td>\n",
       "      <td>[0, 0, 0, 0, 0, 0, 1, 0, 1]</td>\n",
       "      <td>[0.10565948286030301, 0.026185176187118003, 0....</td>\n",
       "    </tr>\n",
       "    <tr>\n",
       "      <th>TLDR_RS_2021-04-cm-13647.json</th>\n",
       "      <td>hey there !&lt;/s&gt;&lt;s&gt; i am looking to buy a bed t...</td>\n",
       "      <td>can i use the neiden bed + 140x200mm matress w...</td>\n",
       "      <td>[0, 0, 1, 0, 0]</td>\n",
       "      <td>[0.0, 0.10146654060073901, 0.42508331024400603...</td>\n",
       "    </tr>\n",
       "  </tbody>\n",
       "</table>\n",
       "<p>1590132 rows × 4 columns</p>\n",
       "</div>"
      ],
      "text/plain": [
       "                                                                              document  \\\n",
       "id                                                                                       \n",
       "train-TLDR_RS_2019-07-25907.json     hey y' all , i 've been a lurker in this commu...   \n",
       "train-TLDR_RS_2011-07-7721.json      as the title says , dreams that really scared ...   \n",
       "train-TLDR_RC_2019-08-cm-9972.json   from u / orangejews4u here 's my \" must read \"...   \n",
       "train-TLDR_RS_2015-04-39164.json     hello / r / relationships , i did n't really k...   \n",
       "train-TLDR_RC_2016-05-cm-45089.json  i agree with you to be honest .</s><s> my dad ...   \n",
       "...                                                                                ...   \n",
       "TLDR_RS_2021-02-cm-5342.json         basically last year before corona and everythi...   \n",
       "TLDR_RS_2021-02-cm-11094.json        i really like idea of homebrew spells but this...   \n",
       "TLDR_RS_2021-03-cm-31347.json        when i ( 21f ) first met my boyfriend , he was...   \n",
       "TLDR_RS_2021-03-cm-33971.json        for those wondering i 'm in the 9th grade and ...   \n",
       "TLDR_RS_2021-04-cm-13647.json        hey there !</s><s> i am looking to buy a bed t...   \n",
       "\n",
       "                                                                               summary  \\\n",
       "id                                                                                       \n",
       "train-TLDR_RS_2019-07-25907.json     i 'm publishing betas of some stuff i 've been...   \n",
       "train-TLDR_RS_2011-07-7721.json      dreamed i was a cop that got shot in the face ...   \n",
       "train-TLDR_RC_2019-08-cm-9972.json   not worth ) ] ( https://www.reddit.com/r/howto...   \n",
       "train-TLDR_RS_2015-04-39164.json     wife wants a break , has started going out par...   \n",
       "train-TLDR_RC_2016-05-cm-45089.json  i agree with you . regular dad things . some s...   \n",
       "...                                                                                ...   \n",
       "TLDR_RS_2021-02-cm-5342.json         fck web dev , i 'm off to learn how to make an...   \n",
       "TLDR_RS_2021-02-cm-11094.json              i do n't find such op spells fun and fair .   \n",
       "TLDR_RS_2021-03-cm-31347.json        my boyfriend is getting too sensitive and clin...   \n",
       "TLDR_RS_2021-03-cm-33971.json        i insulted my teacher in an online class . the...   \n",
       "TLDR_RS_2021-04-cm-13647.json        can i use the neiden bed + 140x200mm matress w...   \n",
       "\n",
       "                                                                            ext_labels  \\\n",
       "id                                                                                       \n",
       "train-TLDR_RS_2019-07-25907.json     [0, 0, 0, 1, 0, 0, 0, 0, 0, 0, 0, 0, 0, 0, 0, ...   \n",
       "train-TLDR_RS_2011-07-7721.json                                        [1, 1, 0, 0, 1]   \n",
       "train-TLDR_RC_2019-08-cm-9972.json                                        [0, 1, 0, 1]   \n",
       "train-TLDR_RS_2015-04-39164.json     [0, 0, 0, 0, 0, 0, 0, 0, 0, 0, 0, 0, 0, 0, 0, ...   \n",
       "train-TLDR_RC_2016-05-cm-45089.json               [1, 0, 0, 0, 0, 0, 1, 0, 0, 0, 0, 0]   \n",
       "...                                                                                ...   \n",
       "TLDR_RS_2021-02-cm-5342.json                                  [0, 1, 0, 0, 0, 0, 0, 0]   \n",
       "TLDR_RS_2021-02-cm-11094.json                                             [1, 0, 0, 0]   \n",
       "TLDR_RS_2021-03-cm-31347.json               [0, 0, 0, 0, 0, 0, 0, 0, 0, 0, 0, 0, 0, 1]   \n",
       "TLDR_RS_2021-03-cm-33971.json                              [0, 0, 0, 0, 0, 0, 1, 0, 1]   \n",
       "TLDR_RS_2021-04-cm-13647.json                                          [0, 0, 1, 0, 0]   \n",
       "\n",
       "                                                                             rg_labels  \n",
       "id                                                                                      \n",
       "train-TLDR_RS_2019-07-25907.json     [0.040456223279431006, 0.022386650144119002, 0...  \n",
       "train-TLDR_RS_2011-07-7721.json      [0.17657869627445003, 0.382656749215711, 0.157...  \n",
       "train-TLDR_RC_2019-08-cm-9972.json   [0.23651113155692202, 0.336435558104879, 0.165...  \n",
       "train-TLDR_RS_2015-04-39164.json     [0.044352260202115, 0.016666897769790003, 0.02...  \n",
       "train-TLDR_RC_2016-05-cm-45089.json  [0.43353065193323603, 0.054993317369966, 0.047...  \n",
       "...                                                                                ...  \n",
       "TLDR_RS_2021-02-cm-5342.json         [0.11267163735327002, 0.31056765001268505, 0.1...  \n",
       "TLDR_RS_2021-02-cm-11094.json        [0.49651190762569103, 0.26557613663699703, 0.0...  \n",
       "TLDR_RS_2021-03-cm-31347.json        [0.098505453044571, 0.053650019684145005, 0.07...  \n",
       "TLDR_RS_2021-03-cm-33971.json        [0.10565948286030301, 0.026185176187118003, 0....  \n",
       "TLDR_RS_2021-04-cm-13647.json        [0.0, 0.10146654060073901, 0.42508331024400603...  \n",
       "\n",
       "[1590132 rows x 4 columns]"
      ]
     },
     "execution_count": 4,
     "metadata": {},
     "output_type": "execute_result"
    }
   ],
   "source": [
    "train"
   ]
  },
  {
   "cell_type": "markdown",
   "id": "fc2e6de7",
   "metadata": {},
   "source": [
    "Attributes\n",
    "- **id**: The ID of the reddit post,\n",
    "    - RS: submission (reddit post)\n",
    "    - RC: comment\n",
    "- **document**: User's post text (source)\n",
    "    - is split by the sentences; hence, you will find `</s><s>` tokens within the document's text, indicating the sentence boundaries.\n",
    "- **summary**: User-written summary/TL;DR of the post,\n",
    "- **ext_labels**: Extractive labels of the post's sentences (one per sentence)\n",
    "- **rg_labels**: The rouge scores of the post's sentences (one per sentence)"
   ]
  },
  {
   "cell_type": "markdown",
   "id": "f2ea1e91",
   "metadata": {},
   "source": [
    "### Train set exploration"
   ]
  },
  {
   "cell_type": "markdown",
   "id": "5c939503",
   "metadata": {},
   "source": [
    "#### Example document"
   ]
  },
  {
   "cell_type": "code",
   "execution_count": 5,
   "id": "e05b1d6f",
   "metadata": {
    "ExecuteTime": {
     "end_time": "2022-12-26T21:05:24.016513Z",
     "start_time": "2022-12-26T21:05:23.986790Z"
    }
   },
   "outputs": [
    {
     "data": {
      "text/plain": [
       "document      hey y' all , i 've been a lurker in this commu...\n",
       "summary       i 'm publishing betas of some stuff i 've been...\n",
       "ext_labels    [0, 0, 0, 1, 0, 0, 0, 0, 0, 0, 0, 0, 0, 0, 0, ...\n",
       "rg_labels     [0.040456223279431006, 0.022386650144119002, 0...\n",
       "Name: train-TLDR_RS_2019-07-25907.json, dtype: object"
      ]
     },
     "execution_count": 5,
     "metadata": {},
     "output_type": "execute_result"
    }
   ],
   "source": [
    "train.iloc[0]"
   ]
  },
  {
   "cell_type": "code",
   "execution_count": 6,
   "id": "469f6161",
   "metadata": {
    "ExecuteTime": {
     "end_time": "2022-12-26T21:05:24.081007Z",
     "start_time": "2022-12-26T21:05:24.017510Z"
    },
    "scrolled": true
   },
   "outputs": [
    {
     "data": {
      "text/plain": [
       "'hey y\\' all , i \\'ve been a lurker in this community for eons , and it \\'s about time i contributed something .</s><s> ordinarily this is something more properly posted in r / jailbreak - but seeing as how it seems to be an eternal dumpsterfire , i \\'m sure you can understand my preference to share this information here .</s><s> what i \\'ve got for y\\' all today are some betas for various tools i \\'ve been working on for the past couple months , and have been holding off on publishing until they were all ready .</s><s> ## iksof ( ios kernel symbol offset finder )</s><s> just another in the long list of offset finders out there .</s><s> when i first started writing this , the idea was to finally have a nice platform binary , rather than a shell script for finding symbol offsets in an ipsw file \\'s kernelcache .</s><s> i recently realized that there \\'s actually a few out there already and that i just was n\\'t looking hard enough .</s><s> regardless , this is a thing i made , and i think it has potential</s><s> in essence , it tries to get all symbol offsets you could possibly need , and prints them out as macro definitions for you .</s><s> it \\'s open - source and on github here :</s><s> [ https://github.com/tomnific/iksof ] ( https://github.com/tomnific/iksof )</s><s> let \\'s face it , using logos to interact with swift is just plain awful .</s><s> i mean , i suppose it \\'s better than using raw mobilesubstrate calls , but it \\'s still counter to the purpose of logos , which is to simplify the hooking process .</s><s> logos + + make hooking swift just as easy as hooking anything else .</s><s> hooking a swift class looks nearly identical to hooking any other class .</s><s> and hooking a function - well just look at the before and after :</s><s> static void ( * orig_viewcontroller_randomfunction ) ( void ) = null ;</s><s> void hook_viewcontroller_randomfunction ( ) {</s><s> nslog ( @ \" hooked random function \" ) ;</s><s> % init ( viewcontroller = objc_getclass ( \" hookexampleapp.viewcontroller \" ) ) ;</s><s> mshookfunction ( msfindsymbol ( null , \" __ t014hookexampleapp14viewcontrollerc14randomfunctionyyf \" ) ,</s><s> ( void * ) hook_viewcontroller_randomfunction ,</s><s> ( void ** ) & orig_viewcontroller_randomfunction ) ;</s><s> % hookswiftf ( \" hookexampleapp.viewcontroller \" , void , \" __ t014hookexampleapp14viewcontrollerc14randomfunctionyyf \" , void )</s><s> nslog ( @ \" hooked random function \" ) ;</s><s> like c++ compiles down to c , logos + + gets translated down to plain logos using a tool called logos & dash ; & dash ;</s><s> at its current state , it \\'s mostly a proof of concept , but it is entirely useable .</s><s> however , i know a lot of tweak developers develop on their idevices , so , unfortunately , this may be difficult for them to integrate into their process , as logos & dash ; & dash ; is a java program .</s><s> as you \\'ll see , the different parts of the language handle swift \\'s name mangling in different ways .</s><s> based on user feedback , the language will be changed to support one consistent method of handling it .</s><s> you can find it on github here : [ https://github.com/tomnific/logosxx ] ( https://github.com/tomnific/logosxx )</s><s> xpwnd is perhaps the tool i \\'m most excited to share ( no relation to the xpwn toolsuite ) .</s><s> in short , it \\'s a modded version of xcode that has custom sdks geared towards both ios security research and jailbreak development ( with tweak development hopefully coming down the road )</s><s> i noticed that most jailbreaks seem to have a \" standard library \" , if you will , of helper utilities ( these utilities are found in almost every jailbreak ) .</s><s> in addition , things like qilin , iokit and some headers from the macos sdk are also frequently copied over into their own local includes .</s><s> instead of repetitively including these source files and libraries , i wanted to make something that lets you include them like any normal standard c library header .</s><s> this was the genesis of the idea for a jailbreak sdk</s><s> however , i quickly learned that adding arbitrary sdks to xcode is not an easy task and has some unintended side effects .</s><s> eventually , i decided it would be much simpler , and safer , if there was simply a second xcode dedicated to this kind of work .</s><s> thus , xpwnd was born .</s><s> there are some kinks that i \\'m afraid may be inherently unpatchable , but they do n\\'t fully inhibit anything and in spite of them , xpwnd is actually surprisingly stable .</s><s> quick aside : during the making of xpwnd , i also managed to figure out how xcode handles the mythical sparse sdks - something that was previously thought to be a killed feature ( but i \\'ll post more on that elsewhere in the future ) .</s><s> right now , i \\'ve been focusing on the jailbreak development side of xpwnd , so that \\'s probably where you \\'ll see the most changes coming up .</s><s> xpwnd is installable with a simple shell script - all that \\'s needed is a vanilla xcode , about 30 minutes of time , and 40gb of free storage ( xpwnd is only 20gb after the installation ) .</s><s> in the readme , there \\'s a full list of bugs and how they can be mitigated until a permanent solution is found .</s><s> you can find xpwnd on github here : [ https://github.com/tomnific/xpwnd ] ( https://github.com/tomnific/xpwnd )'"
      ]
     },
     "execution_count": 6,
     "metadata": {},
     "output_type": "execute_result"
    }
   ],
   "source": [
    "train['document'].iloc[0]"
   ]
  },
  {
   "cell_type": "code",
   "execution_count": 7,
   "id": "118bc959",
   "metadata": {
    "ExecuteTime": {
     "end_time": "2022-12-26T21:05:24.170853Z",
     "start_time": "2022-12-26T21:05:24.086032Z"
    }
   },
   "outputs": [
    {
     "data": {
      "text/html": [
       "<div>\n",
       "<style scoped>\n",
       "    .dataframe tbody tr th:only-of-type {\n",
       "        vertical-align: middle;\n",
       "    }\n",
       "\n",
       "    .dataframe tbody tr th {\n",
       "        vertical-align: top;\n",
       "    }\n",
       "\n",
       "    .dataframe thead th {\n",
       "        text-align: right;\n",
       "    }\n",
       "</style>\n",
       "<table border=\"1\" class=\"dataframe\">\n",
       "  <thead>\n",
       "    <tr style=\"text-align: right;\">\n",
       "      <th></th>\n",
       "      <th>sentence</th>\n",
       "      <th>ext</th>\n",
       "      <th>rg</th>\n",
       "    </tr>\n",
       "  </thead>\n",
       "  <tbody>\n",
       "    <tr>\n",
       "      <th>0</th>\n",
       "      <td>hey y' all , i 've been a lurker in this commu...</td>\n",
       "      <td>0</td>\n",
       "      <td>0.040456</td>\n",
       "    </tr>\n",
       "    <tr>\n",
       "      <th>1</th>\n",
       "      <td>ordinarily this is something more properly po...</td>\n",
       "      <td>0</td>\n",
       "      <td>0.022387</td>\n",
       "    </tr>\n",
       "    <tr>\n",
       "      <th>2</th>\n",
       "      <td>what i 've got for y' all today are some beta...</td>\n",
       "      <td>0</td>\n",
       "      <td>0.065609</td>\n",
       "    </tr>\n",
       "    <tr>\n",
       "      <th>3</th>\n",
       "      <td>## iksof ( ios kernel symbol offset finder )</td>\n",
       "      <td>1</td>\n",
       "      <td>0.097218</td>\n",
       "    </tr>\n",
       "    <tr>\n",
       "      <th>4</th>\n",
       "      <td>just another in the long list of offset finde...</td>\n",
       "      <td>0</td>\n",
       "      <td>0.031838</td>\n",
       "    </tr>\n",
       "    <tr>\n",
       "      <th>5</th>\n",
       "      <td>when i first started writing this , the idea ...</td>\n",
       "      <td>0</td>\n",
       "      <td>0.023288</td>\n",
       "    </tr>\n",
       "    <tr>\n",
       "      <th>6</th>\n",
       "      <td>i recently realized that there 's actually a ...</td>\n",
       "      <td>0</td>\n",
       "      <td>0.020016</td>\n",
       "    </tr>\n",
       "    <tr>\n",
       "      <th>7</th>\n",
       "      <td>regardless , this is a thing i made , and i t...</td>\n",
       "      <td>0</td>\n",
       "      <td>0.015217</td>\n",
       "    </tr>\n",
       "    <tr>\n",
       "      <th>8</th>\n",
       "      <td>in essence , it tries to get all symbol offse...</td>\n",
       "      <td>0</td>\n",
       "      <td>0.019918</td>\n",
       "    </tr>\n",
       "    <tr>\n",
       "      <th>9</th>\n",
       "      <td>it 's open - source and on github here :</td>\n",
       "      <td>0</td>\n",
       "      <td>0.008340</td>\n",
       "    </tr>\n",
       "    <tr>\n",
       "      <th>10</th>\n",
       "      <td>[ https://github.com/tomnific/iksof ] ( https...</td>\n",
       "      <td>0</td>\n",
       "      <td>0.000000</td>\n",
       "    </tr>\n",
       "    <tr>\n",
       "      <th>11</th>\n",
       "      <td>let 's face it , using logos to interact with...</td>\n",
       "      <td>0</td>\n",
       "      <td>0.014955</td>\n",
       "    </tr>\n",
       "    <tr>\n",
       "      <th>12</th>\n",
       "      <td>i mean , i suppose it 's better than using ra...</td>\n",
       "      <td>0</td>\n",
       "      <td>0.041754</td>\n",
       "    </tr>\n",
       "    <tr>\n",
       "      <th>13</th>\n",
       "      <td>logos + + make hooking swift just as easy as ...</td>\n",
       "      <td>0</td>\n",
       "      <td>0.015770</td>\n",
       "    </tr>\n",
       "    <tr>\n",
       "      <th>14</th>\n",
       "      <td>hooking a swift class looks nearly identical ...</td>\n",
       "      <td>0</td>\n",
       "      <td>0.023233</td>\n",
       "    </tr>\n",
       "    <tr>\n",
       "      <th>15</th>\n",
       "      <td>and hooking a function - well just look at th...</td>\n",
       "      <td>0</td>\n",
       "      <td>0.015489</td>\n",
       "    </tr>\n",
       "    <tr>\n",
       "      <th>16</th>\n",
       "      <td>static void ( * orig_viewcontroller_randomfun...</td>\n",
       "      <td>0</td>\n",
       "      <td>0.000000</td>\n",
       "    </tr>\n",
       "    <tr>\n",
       "      <th>17</th>\n",
       "      <td>void hook_viewcontroller_randomfunction ( ) {</td>\n",
       "      <td>0</td>\n",
       "      <td>0.000000</td>\n",
       "    </tr>\n",
       "    <tr>\n",
       "      <th>18</th>\n",
       "      <td>nslog ( @ \" hooked random function \" ) ;</td>\n",
       "      <td>0</td>\n",
       "      <td>0.000000</td>\n",
       "    </tr>\n",
       "    <tr>\n",
       "      <th>19</th>\n",
       "      <td>% init ( viewcontroller = objc_getclass ( \" h...</td>\n",
       "      <td>0</td>\n",
       "      <td>0.000000</td>\n",
       "    </tr>\n",
       "    <tr>\n",
       "      <th>20</th>\n",
       "      <td>mshookfunction ( msfindsymbol ( null , \" __ t...</td>\n",
       "      <td>0</td>\n",
       "      <td>0.000000</td>\n",
       "    </tr>\n",
       "    <tr>\n",
       "      <th>21</th>\n",
       "      <td>( void * ) hook_viewcontroller_randomfunction ,</td>\n",
       "      <td>0</td>\n",
       "      <td>0.000000</td>\n",
       "    </tr>\n",
       "    <tr>\n",
       "      <th>22</th>\n",
       "      <td>( void ** ) &amp; orig_viewcontroller_randomfunct...</td>\n",
       "      <td>0</td>\n",
       "      <td>0.000000</td>\n",
       "    </tr>\n",
       "    <tr>\n",
       "      <th>23</th>\n",
       "      <td>% hookswiftf ( \" hookexampleapp.viewcontrolle...</td>\n",
       "      <td>0</td>\n",
       "      <td>0.000000</td>\n",
       "    </tr>\n",
       "    <tr>\n",
       "      <th>24</th>\n",
       "      <td>nslog ( @ \" hooked random function \" ) ;</td>\n",
       "      <td>0</td>\n",
       "      <td>0.000000</td>\n",
       "    </tr>\n",
       "    <tr>\n",
       "      <th>25</th>\n",
       "      <td>like c++ compiles down to c , logos + + gets ...</td>\n",
       "      <td>0</td>\n",
       "      <td>0.020329</td>\n",
       "    </tr>\n",
       "    <tr>\n",
       "      <th>26</th>\n",
       "      <td>at its current state , it 's mostly a proof o...</td>\n",
       "      <td>0</td>\n",
       "      <td>0.014456</td>\n",
       "    </tr>\n",
       "    <tr>\n",
       "      <th>27</th>\n",
       "      <td>however , i know a lot of tweak developers de...</td>\n",
       "      <td>0</td>\n",
       "      <td>0.028161</td>\n",
       "    </tr>\n",
       "    <tr>\n",
       "      <th>28</th>\n",
       "      <td>as you 'll see , the different parts of the l...</td>\n",
       "      <td>0</td>\n",
       "      <td>0.021218</td>\n",
       "    </tr>\n",
       "    <tr>\n",
       "      <th>29</th>\n",
       "      <td>based on user feedback , the language will be...</td>\n",
       "      <td>0</td>\n",
       "      <td>0.021329</td>\n",
       "    </tr>\n",
       "    <tr>\n",
       "      <th>30</th>\n",
       "      <td>you can find it on github here : [ https://gi...</td>\n",
       "      <td>0</td>\n",
       "      <td>0.008183</td>\n",
       "    </tr>\n",
       "    <tr>\n",
       "      <th>31</th>\n",
       "      <td>xpwnd is perhaps the tool i 'm most excited t...</td>\n",
       "      <td>0</td>\n",
       "      <td>0.035789</td>\n",
       "    </tr>\n",
       "    <tr>\n",
       "      <th>32</th>\n",
       "      <td>in short , it 's a modded version of xcode th...</td>\n",
       "      <td>1</td>\n",
       "      <td>0.059257</td>\n",
       "    </tr>\n",
       "    <tr>\n",
       "      <th>33</th>\n",
       "      <td>i noticed that most jailbreaks seem to have a...</td>\n",
       "      <td>0</td>\n",
       "      <td>0.031427</td>\n",
       "    </tr>\n",
       "    <tr>\n",
       "      <th>34</th>\n",
       "      <td>in addition , things like qilin , iokit and s...</td>\n",
       "      <td>0</td>\n",
       "      <td>0.012946</td>\n",
       "    </tr>\n",
       "    <tr>\n",
       "      <th>35</th>\n",
       "      <td>instead of repetitively including these sourc...</td>\n",
       "      <td>0</td>\n",
       "      <td>0.018587</td>\n",
       "    </tr>\n",
       "    <tr>\n",
       "      <th>36</th>\n",
       "      <td>this was the genesis of the idea for a jailbr...</td>\n",
       "      <td>0</td>\n",
       "      <td>0.031838</td>\n",
       "    </tr>\n",
       "    <tr>\n",
       "      <th>37</th>\n",
       "      <td>however , i quickly learned that adding arbit...</td>\n",
       "      <td>0</td>\n",
       "      <td>0.020016</td>\n",
       "    </tr>\n",
       "    <tr>\n",
       "      <th>38</th>\n",
       "      <td>eventually , i decided it would be much simpl...</td>\n",
       "      <td>0</td>\n",
       "      <td>0.032365</td>\n",
       "    </tr>\n",
       "    <tr>\n",
       "      <th>39</th>\n",
       "      <td>thus , xpwnd was born .</td>\n",
       "      <td>0</td>\n",
       "      <td>0.009035</td>\n",
       "    </tr>\n",
       "    <tr>\n",
       "      <th>40</th>\n",
       "      <td>there are some kinks that i 'm afraid may be ...</td>\n",
       "      <td>0</td>\n",
       "      <td>0.029872</td>\n",
       "    </tr>\n",
       "    <tr>\n",
       "      <th>41</th>\n",
       "      <td>quick aside : during the making of xpwnd , i ...</td>\n",
       "      <td>0</td>\n",
       "      <td>0.025511</td>\n",
       "    </tr>\n",
       "    <tr>\n",
       "      <th>42</th>\n",
       "      <td>right now , i 've been focusing on the jailbr...</td>\n",
       "      <td>1</td>\n",
       "      <td>0.062502</td>\n",
       "    </tr>\n",
       "    <tr>\n",
       "      <th>43</th>\n",
       "      <td>xpwnd is installable with a simple shell scri...</td>\n",
       "      <td>0</td>\n",
       "      <td>0.033794</td>\n",
       "    </tr>\n",
       "    <tr>\n",
       "      <th>44</th>\n",
       "      <td>in the readme , there 's a full list of bugs ...</td>\n",
       "      <td>0</td>\n",
       "      <td>0.019713</td>\n",
       "    </tr>\n",
       "    <tr>\n",
       "      <th>45</th>\n",
       "      <td>you can find xpwnd on github here : [ https:/...</td>\n",
       "      <td>0</td>\n",
       "      <td>0.008183</td>\n",
       "    </tr>\n",
       "  </tbody>\n",
       "</table>\n",
       "</div>"
      ],
      "text/plain": [
       "                                             sentence  ext        rg\n",
       "0   hey y' all , i 've been a lurker in this commu...    0  0.040456\n",
       "1    ordinarily this is something more properly po...    0  0.022387\n",
       "2    what i 've got for y' all today are some beta...    0  0.065609\n",
       "3        ## iksof ( ios kernel symbol offset finder )    1  0.097218\n",
       "4    just another in the long list of offset finde...    0  0.031838\n",
       "5    when i first started writing this , the idea ...    0  0.023288\n",
       "6    i recently realized that there 's actually a ...    0  0.020016\n",
       "7    regardless , this is a thing i made , and i t...    0  0.015217\n",
       "8    in essence , it tries to get all symbol offse...    0  0.019918\n",
       "9            it 's open - source and on github here :    0  0.008340\n",
       "10   [ https://github.com/tomnific/iksof ] ( https...    0  0.000000\n",
       "11   let 's face it , using logos to interact with...    0  0.014955\n",
       "12   i mean , i suppose it 's better than using ra...    0  0.041754\n",
       "13   logos + + make hooking swift just as easy as ...    0  0.015770\n",
       "14   hooking a swift class looks nearly identical ...    0  0.023233\n",
       "15   and hooking a function - well just look at th...    0  0.015489\n",
       "16   static void ( * orig_viewcontroller_randomfun...    0  0.000000\n",
       "17      void hook_viewcontroller_randomfunction ( ) {    0  0.000000\n",
       "18           nslog ( @ \" hooked random function \" ) ;    0  0.000000\n",
       "19   % init ( viewcontroller = objc_getclass ( \" h...    0  0.000000\n",
       "20   mshookfunction ( msfindsymbol ( null , \" __ t...    0  0.000000\n",
       "21    ( void * ) hook_viewcontroller_randomfunction ,    0  0.000000\n",
       "22   ( void ** ) & orig_viewcontroller_randomfunct...    0  0.000000\n",
       "23   % hookswiftf ( \" hookexampleapp.viewcontrolle...    0  0.000000\n",
       "24           nslog ( @ \" hooked random function \" ) ;    0  0.000000\n",
       "25   like c++ compiles down to c , logos + + gets ...    0  0.020329\n",
       "26   at its current state , it 's mostly a proof o...    0  0.014456\n",
       "27   however , i know a lot of tweak developers de...    0  0.028161\n",
       "28   as you 'll see , the different parts of the l...    0  0.021218\n",
       "29   based on user feedback , the language will be...    0  0.021329\n",
       "30   you can find it on github here : [ https://gi...    0  0.008183\n",
       "31   xpwnd is perhaps the tool i 'm most excited t...    0  0.035789\n",
       "32   in short , it 's a modded version of xcode th...    1  0.059257\n",
       "33   i noticed that most jailbreaks seem to have a...    0  0.031427\n",
       "34   in addition , things like qilin , iokit and s...    0  0.012946\n",
       "35   instead of repetitively including these sourc...    0  0.018587\n",
       "36   this was the genesis of the idea for a jailbr...    0  0.031838\n",
       "37   however , i quickly learned that adding arbit...    0  0.020016\n",
       "38   eventually , i decided it would be much simpl...    0  0.032365\n",
       "39                            thus , xpwnd was born .    0  0.009035\n",
       "40   there are some kinks that i 'm afraid may be ...    0  0.029872\n",
       "41   quick aside : during the making of xpwnd , i ...    0  0.025511\n",
       "42   right now , i 've been focusing on the jailbr...    1  0.062502\n",
       "43   xpwnd is installable with a simple shell scri...    0  0.033794\n",
       "44   in the readme , there 's a full list of bugs ...    0  0.019713\n",
       "45   you can find xpwnd on github here : [ https:/...    0  0.008183"
      ]
     },
     "execution_count": 7,
     "metadata": {},
     "output_type": "execute_result"
    }
   ],
   "source": [
    "#pd.set_option('display.max_colwidth', None)\n",
    "example_doc = pd.DataFrame({\"sentence\": train['document'].iloc[0].split(\"</s><s>\"),\n",
    "                       \"ext\": train['ext_labels'].iloc[0],\n",
    "                       \"rg\": train['rg_labels'].iloc[0]})\n",
    "example_doc"
   ]
  },
  {
   "cell_type": "code",
   "execution_count": 8,
   "id": "93735e9b",
   "metadata": {
    "ExecuteTime": {
     "end_time": "2022-12-26T21:05:24.230532Z",
     "start_time": "2022-12-26T21:05:24.173810Z"
    }
   },
   "outputs": [
    {
     "data": {
      "text/html": [
       "<div>\n",
       "<style scoped>\n",
       "    .dataframe tbody tr th:only-of-type {\n",
       "        vertical-align: middle;\n",
       "    }\n",
       "\n",
       "    .dataframe tbody tr th {\n",
       "        vertical-align: top;\n",
       "    }\n",
       "\n",
       "    .dataframe thead th {\n",
       "        text-align: right;\n",
       "    }\n",
       "</style>\n",
       "<table border=\"1\" class=\"dataframe\">\n",
       "  <thead>\n",
       "    <tr style=\"text-align: right;\">\n",
       "      <th></th>\n",
       "      <th>sentence</th>\n",
       "      <th>ext</th>\n",
       "      <th>rg</th>\n",
       "    </tr>\n",
       "  </thead>\n",
       "  <tbody>\n",
       "    <tr>\n",
       "      <th>3</th>\n",
       "      <td>## iksof ( ios kernel symbol offset finder )</td>\n",
       "      <td>1</td>\n",
       "      <td>0.097218</td>\n",
       "    </tr>\n",
       "    <tr>\n",
       "      <th>32</th>\n",
       "      <td>in short , it 's a modded version of xcode th...</td>\n",
       "      <td>1</td>\n",
       "      <td>0.059257</td>\n",
       "    </tr>\n",
       "    <tr>\n",
       "      <th>42</th>\n",
       "      <td>right now , i 've been focusing on the jailbr...</td>\n",
       "      <td>1</td>\n",
       "      <td>0.062502</td>\n",
       "    </tr>\n",
       "  </tbody>\n",
       "</table>\n",
       "</div>"
      ],
      "text/plain": [
       "                                             sentence  ext        rg\n",
       "3        ## iksof ( ios kernel symbol offset finder )    1  0.097218\n",
       "32   in short , it 's a modded version of xcode th...    1  0.059257\n",
       "42   right now , i 've been focusing on the jailbr...    1  0.062502"
      ]
     },
     "execution_count": 8,
     "metadata": {},
     "output_type": "execute_result"
    }
   ],
   "source": [
    "example_doc[example_doc['ext']==1]"
   ]
  },
  {
   "cell_type": "code",
   "execution_count": 9,
   "id": "01f5280f",
   "metadata": {
    "ExecuteTime": {
     "end_time": "2022-12-26T21:05:24.297970Z",
     "start_time": "2022-12-26T21:05:24.231668Z"
    }
   },
   "outputs": [
    {
     "data": {
      "text/plain": [
       "\"i 'm publishing betas of some stuff i 've been working on : * ** iksof ** - ios kernel symbol offset finder * ** logos + + ** - a superset of logos that supports swift * ** xpwnd ** - a modded version of xcode designed to aid each level of the jailbreak stack stay tuned , ~ tomnific\""
      ]
     },
     "execution_count": 9,
     "metadata": {},
     "output_type": "execute_result"
    }
   ],
   "source": [
    "train['summary'].iloc[0]"
   ]
  },
  {
   "cell_type": "markdown",
   "id": "24755e6c",
   "metadata": {},
   "source": [
    "#### Statistics on the number of sentences per document"
   ]
  },
  {
   "cell_type": "code",
   "execution_count": 10,
   "id": "2926d01e",
   "metadata": {
    "ExecuteTime": {
     "end_time": "2022-12-26T21:05:25.824964Z",
     "start_time": "2022-12-26T21:05:24.298891Z"
    }
   },
   "outputs": [
    {
     "data": {
      "text/plain": [
       "count    1590132\n",
       "mean          16\n",
       "std           15\n",
       "min            1\n",
       "25%            7\n",
       "50%           11\n",
       "75%           19\n",
       "max          976\n",
       "Name: ext_labels, dtype: object"
      ]
     },
     "execution_count": 10,
     "metadata": {},
     "output_type": "execute_result"
    }
   ],
   "source": [
    "es = train['ext_labels'].str.len()\n",
    "es.describe().apply(\"{0:.0f}\".format)"
   ]
  },
  {
   "cell_type": "markdown",
   "id": "2fadde07",
   "metadata": {},
   "source": [
    "### From dataframe to dictionary"
   ]
  },
  {
   "cell_type": "code",
   "execution_count": null,
   "id": "c2f322ba",
   "metadata": {
    "ExecuteTime": {
     "start_time": "2022-12-26T21:06:00.463Z"
    }
   },
   "outputs": [],
   "source": [
    "train = train.to_dict(orient=\"index\")\n",
    "val = val.to_dict(orient=\"index\")\n",
    "test = test.to_dict(orient=\"index\")"
   ]
  }
 ],
 "metadata": {
  "kernelspec": {
   "display_name": "NLP10",
   "language": "python",
   "name": "nlp10"
  },
  "language_info": {
   "codemirror_mode": {
    "name": "ipython",
    "version": 3
   },
   "file_extension": ".py",
   "mimetype": "text/x-python",
   "name": "python",
   "nbconvert_exporter": "python",
   "pygments_lexer": "ipython3",
   "version": "3.10.7"
  },
  "toc": {
   "base_numbering": 1,
   "nav_menu": {},
   "number_sections": true,
   "sideBar": true,
   "skip_h1_title": true,
   "title_cell": "Table of Contents",
   "title_sidebar": "Contents",
   "toc_cell": false,
   "toc_position": {},
   "toc_section_display": true,
   "toc_window_display": true
  },
  "vscode": {
   "interpreter": {
    "hash": "36e6abe53d9d9a353a413d45d8d0398af660d6956cbe2e98282d38e46e805cf6"
   }
  }
 },
 "nbformat": 4,
 "nbformat_minor": 5
}
