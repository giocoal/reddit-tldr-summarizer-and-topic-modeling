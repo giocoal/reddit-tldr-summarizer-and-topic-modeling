{
 "cells": [
  {
   "attachments": {},
   "cell_type": "markdown",
   "metadata": {},
   "source": [
    "## Dataset creation"
   ]
  },
  {
   "attachments": {},
   "cell_type": "markdown",
   "metadata": {},
   "source": [
    "From list of words for each sentence to list of words for each document.\n",
    "Save only `id`, `document_normalized`, `pos_tags` columns"
   ]
  },
  {
   "cell_type": "code",
   "execution_count": null,
   "metadata": {},
   "outputs": [],
   "source": [
    "import os\n",
    "import pandas as pd\n",
    "from pandas.core.common import flatten"
   ]
  },
  {
   "cell_type": "code",
   "execution_count": null,
   "metadata": {},
   "outputs": [],
   "source": [
    "path_dataset = './Dataset_TLDRHQ/processed_dataset/'\n",
    "path_output = './Dataset_TLDRHQ/dataset_topic_modeling/'"
   ]
  },
  {
   "cell_type": "code",
   "execution_count": null,
   "metadata": {},
   "outputs": [],
   "source": [
    "for file in os.listdir(path_dataset):\n",
    "    if 'val' in file:\n",
    "        print(file)\n",
    "        json = pd.read_json(f'{path_dataset}{file}', orient=\"records\", lines=True)\n",
    "        json['document_normalized'] =  json['document_normalized'].apply(lambda x: list(flatten(x)))\n",
    "        json['pos_tags'] =  json['pos_tags'].apply(lambda x: list(flatten(x)))\n",
    "        json[['id', 'document_normalized', 'pos_tags']].to_json(f'{path_output}{file}', orient = \"records\", lines=True)"
   ]
  }
 ],
 "metadata": {
  "kernelspec": {
   "display_name": "base",
   "language": "python",
   "name": "python3"
  },
  "language_info": {
   "codemirror_mode": {
    "name": "ipython",
    "version": 3
   },
   "file_extension": ".py",
   "mimetype": "text/x-python",
   "name": "python",
   "nbconvert_exporter": "python",
   "pygments_lexer": "ipython3",
   "version": "3.9.7 (default, Sep 16 2021, 16:59:28) [MSC v.1916 64 bit (AMD64)]"
  },
  "orig_nbformat": 4,
  "vscode": {
   "interpreter": {
    "hash": "ad2bdc8ecc057115af97d19610ffacc2b4e99fae6737bb82f5d7fb13d2f2c186"
   }
  }
 },
 "nbformat": 4,
 "nbformat_minor": 2
}
